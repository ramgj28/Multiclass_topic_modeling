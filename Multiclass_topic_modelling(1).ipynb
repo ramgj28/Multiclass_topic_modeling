{
  "nbformat": 4,
  "nbformat_minor": 0,
  "metadata": {
    "colab": {
      "name": "Multiclass topic modelling.ipynb",
      "provenance": [],
      "collapsed_sections": [],
      "toc_visible": true
    },
    "kernelspec": {
      "name": "python3",
      "display_name": "Python 3"
    }
  },
  "cells": [
    {
      "cell_type": "markdown",
      "metadata": {
        "id": "pNXni7tmER4G"
      },
      "source": [
        "***LIBRARIES REQUIRED***"
      ]
    },
    {
      "cell_type": "code",
      "metadata": {
        "id": "qcRRKZDg_vJH"
      },
      "source": [
        "import pandas as pd\n",
        "import numpy as np\n",
        "import seaborn as sns\n",
        "import matplotlib.pyplot as plt\n",
        "from sklearn.model_selection import train_test_split\n",
        "from sklearn.preprocessing import LabelEncoder\n",
        "from keras.models import Model\n",
        "from keras.layers import LSTM, Activation, Dense, Dropout, Embedding, Input, GRU\n",
        "from keras.optimizers import RMSprop,Adam\n",
        "from keras.preprocessing.text import Tokenizer\n",
        "from keras.preprocessing import sequence\n",
        "from keras.utils import to_categorical\n",
        "from keras.callbacks import EarlyStopping\n",
        "%matplotlib inline"
      ],
      "execution_count": null,
      "outputs": []
    },
    {
      "cell_type": "markdown",
      "metadata": {
        "id": "1T3ZprQNEaO-"
      },
      "source": [
        "***LOADING DATA INTO DATAFRAME***"
      ]
    },
    {
      "cell_type": "code",
      "metadata": {
        "colab": {
          "base_uri": "https://localhost:8080/",
          "height": 195
        },
        "id": "RmxwryonBtVw",
        "outputId": "91741df3-c6b2-46ec-919b-04130a293bd8"
      },
      "source": [
        "df=pd.read_csv('bbc-text.csv',delimiter=',',encoding='latin-1')\n",
        "df.head()"
      ],
      "execution_count": null,
      "outputs": [
        {
          "output_type": "execute_result",
          "data": {
            "text/html": [
              "<div>\n",
              "<style scoped>\n",
              "    .dataframe tbody tr th:only-of-type {\n",
              "        vertical-align: middle;\n",
              "    }\n",
              "\n",
              "    .dataframe tbody tr th {\n",
              "        vertical-align: top;\n",
              "    }\n",
              "\n",
              "    .dataframe thead th {\n",
              "        text-align: right;\n",
              "    }\n",
              "</style>\n",
              "<table border=\"1\" class=\"dataframe\">\n",
              "  <thead>\n",
              "    <tr style=\"text-align: right;\">\n",
              "      <th></th>\n",
              "      <th>category</th>\n",
              "      <th>text</th>\n",
              "    </tr>\n",
              "  </thead>\n",
              "  <tbody>\n",
              "    <tr>\n",
              "      <th>0</th>\n",
              "      <td>tech</td>\n",
              "      <td>tv future in the hands of viewers with home th...</td>\n",
              "    </tr>\n",
              "    <tr>\n",
              "      <th>1</th>\n",
              "      <td>business</td>\n",
              "      <td>worldcom boss  left books alone  former worldc...</td>\n",
              "    </tr>\n",
              "    <tr>\n",
              "      <th>2</th>\n",
              "      <td>sport</td>\n",
              "      <td>tigers wary of farrell  gamble  leicester say ...</td>\n",
              "    </tr>\n",
              "    <tr>\n",
              "      <th>3</th>\n",
              "      <td>sport</td>\n",
              "      <td>yeading face newcastle in fa cup premiership s...</td>\n",
              "    </tr>\n",
              "    <tr>\n",
              "      <th>4</th>\n",
              "      <td>entertainment</td>\n",
              "      <td>ocean s twelve raids box office ocean s twelve...</td>\n",
              "    </tr>\n",
              "  </tbody>\n",
              "</table>\n",
              "</div>"
            ],
            "text/plain": [
              "        category                                               text\n",
              "0           tech  tv future in the hands of viewers with home th...\n",
              "1       business  worldcom boss  left books alone  former worldc...\n",
              "2          sport  tigers wary of farrell  gamble  leicester say ...\n",
              "3          sport  yeading face newcastle in fa cup premiership s...\n",
              "4  entertainment  ocean s twelve raids box office ocean s twelve..."
            ]
          },
          "metadata": {
            "tags": []
          },
          "execution_count": 3
        }
      ]
    },
    {
      "cell_type": "markdown",
      "metadata": {
        "id": "cSqV5hsNEwtM"
      },
      "source": [
        "***VISUALIZING DATA SET***"
      ]
    },
    {
      "cell_type": "code",
      "metadata": {
        "colab": {
          "base_uri": "https://localhost:8080/",
          "height": 366
        },
        "id": "W9LcCVZoDAem",
        "outputId": "621282d2-95f0-452f-9f07-6a05d4fee38e"
      },
      "source": [
        "sns.countplot(df.category)\n",
        "plt.xlabel('type of article')\n",
        "plt.ylabel('no of articles')\n",
        "plt.title('Articles')"
      ],
      "execution_count": null,
      "outputs": [
        {
          "output_type": "stream",
          "text": [
            "/usr/local/lib/python3.6/dist-packages/seaborn/_decorators.py:43: FutureWarning: Pass the following variable as a keyword arg: x. From version 0.12, the only valid positional argument will be `data`, and passing other arguments without an explicit keyword will result in an error or misinterpretation.\n",
            "  FutureWarning\n"
          ],
          "name": "stderr"
        },
        {
          "output_type": "execute_result",
          "data": {
            "text/plain": [
              "Text(0.5, 1.0, 'Articles')"
            ]
          },
          "metadata": {
            "tags": []
          },
          "execution_count": 4
        },
        {
          "output_type": "display_data",
          "data": {
            "image/png": "[encoded data removed]",
            "text/plain": [
              "<Figure size 432x288 with 1 Axes>"
            ]
          },
          "metadata": {
            "tags": [],
            "needs_background": "light"
          }
        }
      ]
    },
    {
      "cell_type": "markdown",
      "metadata": {
        "id": "yee_y7EYEQlp"
      },
      "source": [
        "***CREATE INPUT AND OUTPUT VECTOR***"
      ]
    },
    {
      "cell_type": "code",
      "metadata": {
        "id": "wMDDIeySD3iJ"
      },
      "source": [
        "X=df.text\n",
        "Y=df.category\n",
        "le=LabelEncoder()\n",
        "Y=le.fit_transform(Y)\n",
        "Y=Y.reshape(-1,1)"
      ],
      "execution_count": null,
      "outputs": []
    },
    {
      "cell_type": "markdown",
      "metadata": {
        "id": "9X3BgWceFiwV"
      },
      "source": [
        "***SPLITTING DATA INTO TRAIN AND TEST***"
      ]
    },
    {
      "cell_type": "code",
      "metadata": {
        "id": "Z1hs4GU7Fspw"
      },
      "source": [
        "X_train,X_test,Y_train,Y_test=train_test_split(X,Y,test_size=0.15)"
      ],
      "execution_count": null,
      "outputs": []
    },
    {
      "cell_type": "markdown",
      "metadata": {
        "id": "c5xhvW97FtDF"
      },
      "source": [
        "***PROCESS THE DATA***"
      ]
    },
    {
      "cell_type": "code",
      "metadata": {
        "id": "Q01z2T91FtM1"
      },
      "source": [
        "max_words=4000\n",
        "max_len=800\n",
        "tok=Tokenizer(num_words=max_words)\n",
        "tok.fit_on_texts(X_train)\n",
        "sequences=tok.texts_to_sequences(X_train)\n",
        "sequences_matrix=sequence.pad_sequences(sequences,maxlen=max_len)"
      ],
      "execution_count": null,
      "outputs": []
    },
    {
      "cell_type": "code",
      "metadata": {
        "colab": {
          "base_uri": "https://localhost:8080/"
        },
        "id": "WAV62aT0HPfZ",
        "outputId": "b3a9934c-b1e2-4b47-b506-3b60ba8a5c6c"
      },
      "source": [
        "print(sequences_matrix)"
      ],
      "execution_count": null,
      "outputs": [
        {
          "output_type": "stream",
          "text": [
            "[[   0    0    0 ...  771    3    1]\n",
            " [   0    0    0 ...   58  504  108]\n",
            " [   0    0    0 ...  132   70   13]\n",
            " ...\n",
            " [   0    0    0 ... 3141   19 1275]\n",
            " [   0    0    0 ...    2   16  298]\n",
            " [   0    0    0 ...   12    1 1244]]\n"
          ],
          "name": "stdout"
        }
      ]
    },
    {
      "cell_type": "markdown",
      "metadata": {
        "id": "udpPOpSwFtUk"
      },
      "source": [
        "***RNN STRUCTURE***"
      ]
    },
    {
      "cell_type": "markdown",
      "metadata": {
        "id": "cwgGvmJtuwwu"
      },
      "source": [
        ""
      ]
    },
    {
      "cell_type": "code",
      "metadata": {
        "id": "TX0Bl8QSFtd5"
      },
      "source": [
        "#def RNN():\n",
        " # inputs= Input(name='inputs',shape=[max_len]) \n",
        "  #layer=Embedding(max_words,60,input_length=max_len)(inputs)\n",
        "  #layer=LSTM(256)(layer)\n",
        "  #layer = Dense(256,name='FC1',kernel_initializer='glorot_uniform', bias_initializer='zeros')(layer)\n",
        "  #layer = Activation('relu')(layer)\n",
        "  #layer = Dropout(0.5)(layer)\n",
        "  #layer = Dense(1,name='out_layer',kernel_initializer='glorot_uniform', bias_initializer='zeros')(layer)\n",
        "  #layer = Activation('sigmoid')(layer)\n",
        "  #model = Model(inputs=inputs,outputs=layer)\n",
        "  #return model\n"
      ],
      "execution_count": null,
      "outputs": []
    },
    {
      "cell_type": "code",
      "metadata": {
        "id": "Z1alC5tWQHEk"
      },
      "source": [
        "def RNN():\n",
        "  inputs=Input(name='inputs',shape=[max_len])\n",
        "  layer=Embedding(max_words,64,input_length=max_len)(inputs)\n",
        "  layer=GRU(64)(layer)\n",
        "  layer=Dense(64)(layer)\n",
        "  layer=Activation('relu')(layer)\n",
        "  layer=Dropout(0.5)(layer)\n",
        "  layer=Dense(6)(layer)\n",
        "  layer=Activation('softmax')(layer)\n",
        "  model=Model(inputs=inputs,outputs=layer)\n",
        "  return model"
      ],
      "execution_count": null,
      "outputs": []
    },
    {
      "cell_type": "code",
      "metadata": {
        "colab": {
          "base_uri": "https://localhost:8080/"
        },
        "id": "zBXj_rfhJrg6",
        "outputId": "ff86da55-8b9a-4480-d76c-ec32d39d4ae1"
      },
      "source": [
        "model=RNN()\n",
        "model.summary()\n",
        "model.compile(loss='sparse_categorical_crossentropy',optimizer=Adam(),metrics=['accuracy']\n",
        "              )"
      ],
      "execution_count": null,
      "outputs": [
        {
          "output_type": "stream",
          "text": [
            "Model: \"functional_3\"\n",
            "_________________________________________________________________\n",
            "Layer (type)                 Output Shape              Param #   \n",
            "=================================================================\n",
            "inputs (InputLayer)          [(None, 800)]             0         \n",
            "_________________________________________________________________\n",
            "embedding_1 (Embedding)      (None, 800, 64)           256000    \n",
            "_________________________________________________________________\n",
            "gru_1 (GRU)                  (None, 64)                24960     \n",
            "_________________________________________________________________\n",
            "dense_2 (Dense)              (None, 64)                4160      \n",
            "_________________________________________________________________\n",
            "activation_2 (Activation)    (None, 64)                0         \n",
            "_________________________________________________________________\n",
            "dropout_1 (Dropout)          (None, 64)                0         \n",
            "_________________________________________________________________\n",
            "dense_3 (Dense)              (None, 6)                 390       \n",
            "_________________________________________________________________\n",
            "activation_3 (Activation)    (None, 6)                 0         \n",
            "=================================================================\n",
            "Total params: 285,510\n",
            "Trainable params: 285,510\n",
            "Non-trainable params: 0\n",
            "_________________________________________________________________\n"
          ],
          "name": "stdout"
        }
      ]
    },
    {
      "cell_type": "code",
      "metadata": {
        "colab": {
          "base_uri": "https://localhost:8080/"
        },
        "id": "87zHtGaDKo4-",
        "outputId": "77fddf12-97a3-4a2d-d314-dfc11cbe06c2"
      },
      "source": [
        "model.fit(sequences_matrix,Y_train,batch_size=64,epochs=100,\n",
        "          validation_split=0.2,callbacks=[EarlyStopping(monitor='val_loss',min_delta=0.0001)])"
      ],
      "execution_count": null,
      "outputs": [
        {
          "output_type": "stream",
          "text": [
            "Epoch 1/100\n",
            "24/24 [==============================] - 11s 446ms/step - loss: 1.7612 - accuracy: 0.2229 - val_loss: 1.7068 - val_accuracy: 0.2401\n",
            "Epoch 2/100\n",
            "24/24 [==============================] - 10s 433ms/step - loss: 1.6604 - accuracy: 0.2381 - val_loss: 1.6239 - val_accuracy: 0.2375\n",
            "Epoch 3/100\n",
            "24/24 [==============================] - 10s 431ms/step - loss: 1.5965 - accuracy: 0.2824 - val_loss: 1.5782 - val_accuracy: 0.2612\n",
            "Epoch 4/100\n",
            "24/24 [==============================] - 10s 430ms/step - loss: 1.4816 - accuracy: 0.3889 - val_loss: 1.4625 - val_accuracy: 0.4749\n",
            "Epoch 5/100\n",
            "24/24 [==============================] - 10s 432ms/step - loss: 1.1509 - accuracy: 0.6455 - val_loss: 1.2439 - val_accuracy: 0.5092\n",
            "Epoch 6/100\n",
            "24/24 [==============================] - 10s 432ms/step - loss: 0.7294 - accuracy: 0.7685 - val_loss: 0.9411 - val_accuracy: 0.6253\n",
            "Epoch 7/100\n",
            "24/24 [==============================] - 10s 434ms/step - loss: 0.4003 - accuracy: 0.8796 - val_loss: 0.8491 - val_accuracy: 0.6860\n",
            "Epoch 8/100\n",
            "24/24 [==============================] - 10s 434ms/step - loss: 0.2018 - accuracy: 0.9444 - val_loss: 0.8202 - val_accuracy: 0.7071\n",
            "Epoch 9/100\n",
            "24/24 [==============================] - 10s 433ms/step - loss: 0.1723 - accuracy: 0.9557 - val_loss: 0.9412 - val_accuracy: 0.6675\n"
          ],
          "name": "stdout"
        },
        {
          "output_type": "execute_result",
          "data": {
            "text/plain": [
              "<tensorflow.python.keras.callbacks.History at 0x7fa68f5ee7b8>"
            ]
          },
          "metadata": {
            "tags": []
          },
          "execution_count": 14
        }
      ]
    },
    {
      "cell_type": "code",
      "metadata": {
        "id": "ykVHtOe-Sfw8"
      },
      "source": [
        "test_sequences = tok.texts_to_sequences(X_test)\n",
        "test_sequences_matrix = sequence.pad_sequences(test_sequences,maxlen=max_len)"
      ],
      "execution_count": null,
      "outputs": []
    },
    {
      "cell_type": "code",
      "metadata": {
        "colab": {
          "base_uri": "https://localhost:8080/"
        },
        "id": "huqWGyN1LdR8",
        "outputId": "96d198a3-cc3e-49d7-9403-e2dc927ae52f"
      },
      "source": [
        "accr = model.evaluate(test_sequences_matrix,Y_test)"
      ],
      "execution_count": null,
      "outputs": [
        {
          "output_type": "stream",
          "text": [
            "11/11 [==============================] - 1s 58ms/step - loss: 0.8785 - accuracy: 0.7156\n"
          ],
          "name": "stdout"
        }
      ]
    },
    {
      "cell_type": "code",
      "metadata": {
        "colab": {
          "base_uri": "https://localhost:8080/"
        },
        "id": "ofuIA0SXLddr",
        "outputId": "0e8cce38-4cb1-48e2-cb90-5588edbc62d6"
      },
      "source": [
        "print('Test set\\n  Loss: {:0.3f}\\n  Accuracy: {:0.3f}'.format(accr[0],accr[1]))"
      ],
      "execution_count": null,
      "outputs": [
        {
          "output_type": "stream",
          "text": [
            "Test set\n",
            "  Loss: 0.878\n",
            "  Accuracy: 0.716\n"
          ],
          "name": "stdout"
        }
      ]
    }
  ]
}